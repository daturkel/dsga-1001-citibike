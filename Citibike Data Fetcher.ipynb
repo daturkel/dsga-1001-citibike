{
 "cells": [
  {
   "cell_type": "code",
   "execution_count": null,
   "metadata": {},
   "outputs": [],
   "source": [
    "import numpy as np\n",
    "import pandas as pd\n",
    "import datetime\n",
    "import requests\n",
    "from zipfile import ZipFile\n",
    "from io import BytesIO, StringIO\n",
    "from csv import reader"
   ]
  },
  {
   "cell_type": "code",
   "execution_count": 1,
   "metadata": {},
   "outputs": [],
   "source": [
    "years = range(2013, 2020)\n",
    "months = range(1, 13)\n",
    "year_months = [str(y) + str(m).zfill(2) for y in years for m in months]\n",
    "# exclude months before citibike started and in the future\n",
    "year_months = year_months[5:-4]\n",
    "url_start = \"https://s3.amazonaws.com/tripdata/\"\n",
    "url_end = \"-citibike-tripdata.zip\"\n",
    "good_columns = [\n",
    "    \"tripduration\",\n",
    "    \"starttime\",\n",
    "    \"stoptime\",\n",
    "    \"start station id\",\n",
    "    \"end station id\",\n",
    "    \"usertype\",\n",
    "]"
   ]
  },
  {
   "cell_type": "code",
   "execution_count": null,
   "metadata": {},
   "outputs": [],
   "source": [
    "# this will download all csvs\n",
    "\n",
    "for ym in year_months:\n",
    "    response = requests.get(url_start + ym + url_end)\n",
    "    zf = ZipFile(BytesIO(response.content))\n",
    "    csv = zf.read(zf.namelist()[0]).decode()\n",
    "    df = pd.read_csv(StringIO(csv))\n",
    "    df[good_columns].to_csv(f\"{ym}.csv\")"
   ]
  },
  {
   "cell_type": "code",
   "execution_count": null,
   "metadata": {},
   "outputs": [],
   "source": []
  }
 ],
 "metadata": {
  "kernelspec": {
   "display_name": "Python 3",
   "language": "python",
   "name": "python3"
  },
  "language_info": {
   "codemirror_mode": {
    "name": "ipython",
    "version": 3
   },
   "file_extension": ".py",
   "mimetype": "text/x-python",
   "name": "python",
   "nbconvert_exporter": "python",
   "pygments_lexer": "ipython3",
   "version": "3.7.3"
  }
 },
 "nbformat": 4,
 "nbformat_minor": 4
}
